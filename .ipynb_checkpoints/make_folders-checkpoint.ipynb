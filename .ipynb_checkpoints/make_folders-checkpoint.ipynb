{
 "cells": [
  {
   "cell_type": "code",
   "execution_count": 22,
   "metadata": {},
   "outputs": [],
   "source": [
    "import os\n",
    "import shutil\n",
    "import numpy as np"
   ]
  },
  {
   "cell_type": "code",
   "execution_count": 24,
   "metadata": {},
   "outputs": [],
   "source": [
    "src_folder = \"data/images\"\n",
    "\n",
    "# directories to save your split data\n",
    "train_dir = \"data/train\"\n",
    "test_dir = \"data/test\"\n",
    "validation_dir = \"data/validation\"\n",
    "\n",
    "files = os.listdir(src_folder)\n",
    "\n",
    "# randomize the files\n",
    "np.random.shuffle(files)\n",
    "\n",
    "# split into 70% train, 15% test, 15% validation\n",
    "train_files = files[:int(len(files)*0.7)]\n",
    "test_files = files[int(len(files)*0.7):int(len(files)*0.85)]\n",
    "validation_files = files[int(len(files)*0.85):]\n",
    "\n",
    "# function to copy files\n",
    "def copy_files(files_list, dest_dir):\n",
    "    for file in files_list:\n",
    "        shutil.copy(os.path.join(src_folder, file), dest_dir)\n",
    "\n",
    "# copy files to respective directories\n",
    "copy_files(train_files, train_dir)\n",
    "copy_files(test_files, test_dir)\n",
    "copy_files(validation_files, validation_dir)"
   ]
  }
 ],
 "metadata": {
  "kernelspec": {
   "display_name": "Python 3",
   "language": "python",
   "name": "python3"
  },
  "language_info": {
   "codemirror_mode": {
    "name": "ipython",
    "version": 3
   },
   "file_extension": ".py",
   "mimetype": "text/x-python",
   "name": "python",
   "nbconvert_exporter": "python",
   "pygments_lexer": "ipython3",
   "version": "3.9.5"
  }
 },
 "nbformat": 4,
 "nbformat_minor": 2
}
