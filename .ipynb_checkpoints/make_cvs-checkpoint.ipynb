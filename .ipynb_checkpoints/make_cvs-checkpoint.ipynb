{
 "cells": [
  {
   "cell_type": "code",
   "execution_count": 3,
   "metadata": {},
   "outputs": [],
   "source": [
    "import os"
   ]
  },
  {
   "cell_type": "code",
   "execution_count": 4,
   "metadata": {},
   "outputs": [
    {
     "ename": "FileNotFoundError",
     "evalue": "[WinError 3] The system cannot find the path specified: 'data\\\\Hijja2-master\\\\1 alif\\\\1.1'",
     "output_type": "error",
     "traceback": [
      "\u001b[1;31m---------------------------------------------------------------------------\u001b[0m",
      "\u001b[1;31mFileNotFoundError\u001b[0m                         Traceback (most recent call last)",
      "Cell \u001b[1;32mIn[4], line 5\u001b[0m\n\u001b[0;32m      3\u001b[0m \u001b[38;5;28;01mfor\u001b[39;00m i \u001b[38;5;129;01min\u001b[39;00m \u001b[38;5;28mrange\u001b[39m(\u001b[38;5;241m1\u001b[39m,\u001b[38;5;241m7\u001b[39m):\n\u001b[0;32m      4\u001b[0m     folder \u001b[38;5;241m=\u001b[39m (\u001b[38;5;124m\"\u001b[39m\u001b[38;5;124mdata\u001b[39m\u001b[38;5;130;01m\\\\\u001b[39;00m\u001b[38;5;124mHijja2-master\u001b[39m\u001b[38;5;130;01m\\\\\u001b[39;00m\u001b[38;5;124m1 alif\u001b[39m\u001b[38;5;130;01m\\\\\u001b[39;00m\u001b[38;5;124m1.\u001b[39m\u001b[38;5;132;01m{}\u001b[39;00m\u001b[38;5;124m\"\u001b[39m)\u001b[38;5;241m.\u001b[39mformat(i)\n\u001b[1;32m----> 5\u001b[0m     imgs \u001b[38;5;241m+\u001b[39m\u001b[38;5;241m=\u001b[39m os\u001b[38;5;241m.\u001b[39mlistdir(folder)\n\u001b[0;32m      6\u001b[0m     \u001b[38;5;28;01mfor\u001b[39;00m j \u001b[38;5;129;01min\u001b[39;00m \u001b[38;5;28mrange\u001b[39m(\u001b[38;5;28mlen\u001b[39m(os\u001b[38;5;241m.\u001b[39mlistdir(folder))):\n\u001b[0;32m      7\u001b[0m         values\u001b[38;5;241m.\u001b[39mappend(\u001b[38;5;241m1\u001b[39m)\n",
      "\u001b[1;31mFileNotFoundError\u001b[0m: [WinError 3] The system cannot find the path specified: 'data\\\\Hijja2-master\\\\1 alif\\\\1.1'"
     ]
    }
   ],
   "source": [
    "imgs = [\"image\"]\n",
    "values=[\"letter\"]\n",
    "for i in range(1,7):\n",
    "    folder = (\"data\\\\Hijja2-master\\\\1 alif\\\\1.{}\").format(i)\n",
    "    imgs += os.listdir(folder)\n",
    "    for j in range(len(os.listdir(folder))):\n",
    "        values.append(1)"
   ]
  },
  {
   "cell_type": "code",
   "execution_count": 67,
   "metadata": {},
   "outputs": [
    {
     "name": "stdout",
     "output_type": "stream",
     "text": [
      "2742\n"
     ]
    }
   ],
   "source": [
    "print(len(imgs))"
   ]
  },
  {
   "cell_type": "code",
   "execution_count": 68,
   "metadata": {},
   "outputs": [],
   "source": [
    "#ba letters\n",
    "for i in range(1,5):\n",
    "    folder = (\"data\\\\Hijja2-master\\\\2 ba\\\\2.{}\").format(i)\n",
    "    imgs += os.listdir(folder)\n",
    "    for j in range(len(os.listdir(folder))):\n",
    "        values.append(2)"
   ]
  },
  {
   "cell_type": "code",
   "execution_count": 69,
   "metadata": {},
   "outputs": [],
   "source": [
    "#ta letters\n",
    "for i in range(1,5):\n",
    "    folder=(\"data\\\\Hijja2-master\\\\3 ta\\\\3.{}\").format(i)\n",
    "    imgs += os.listdir(folder)\n",
    "    for j in range(len(os.listdir(folder))):\n",
    "        values.append(3)"
   ]
  },
  {
   "cell_type": "code",
   "execution_count": 70,
   "metadata": {},
   "outputs": [],
   "source": [
    "#tha letter\n",
    "for i in range(1,5):\n",
    "    folder = (\"data\\\\Hijja2-master\\\\4 tha\\\\4.{}\").format(i)\n",
    "    imgs += os.listdir(folder)\n",
    "    for j in range(len(os.listdir(folder))):\n",
    "        values.append(4)"
   ]
  },
  {
   "cell_type": "code",
   "execution_count": 71,
   "metadata": {},
   "outputs": [],
   "source": [
    "#gim letter \n",
    "for i in range(1,5):\n",
    "    folder = (\"data\\\\Hijja2-master\\\\5 gim\\\\5.{}\").format(i)\n",
    "    imgs += os.listdir(folder)\n",
    "    for j in range(len(os.listdir(folder))):\n",
    "        values.append(5)"
   ]
  },
  {
   "cell_type": "code",
   "execution_count": 72,
   "metadata": {},
   "outputs": [],
   "source": [
    "#haa letter \n",
    "for i in range(1,5):\n",
    "    folder = (\"data\\\\Hijja2-master\\\\6 ha\\\\6.{}\").format(i)\n",
    "    imgs += os.listdir(folder)\n",
    "    for j in range(len(os.listdir(folder))):\n",
    "        values.append(6)"
   ]
  },
  {
   "cell_type": "code",
   "execution_count": 73,
   "metadata": {},
   "outputs": [],
   "source": [
    "#kha letter\n",
    "for i in range(1,5):\n",
    "    folder = (\"data\\\\Hijja2-master\\\\7 kha\\\\7.{}\").format(i)\n",
    "    imgs += os.listdir(folder)\n",
    "    for j in range(len(os.listdir(folder))):\n",
    "        values.append(7)"
   ]
  },
  {
   "cell_type": "code",
   "execution_count": 74,
   "metadata": {},
   "outputs": [],
   "source": [
    "#dal letter\n",
    "for i in range(1,3):\n",
    "    folder = (\"data\\\\Hijja2-master\\\\8 dal\\\\8.{}\").format(i)\n",
    "    imgs += os.listdir(folder)\n",
    "    for j in range(len(os.listdir(folder))):\n",
    "        values.append(8)"
   ]
  },
  {
   "cell_type": "code",
   "execution_count": 75,
   "metadata": {},
   "outputs": [],
   "source": [
    "#Thal letter\n",
    "for i in range(1,3):\n",
    "    folder = (\"data\\\\Hijja2-master\\\\9 thal\\\\9.{}\").format(i)\n",
    "    imgs += os.listdir(folder)\n",
    "    for j in range(len(os.listdir(folder))):\n",
    "        values.append(9)"
   ]
  },
  {
   "cell_type": "code",
   "execution_count": 76,
   "metadata": {},
   "outputs": [],
   "source": [
    "#ra letter\n",
    "for i in range(1,3):\n",
    "    folder = (\"data\\\\Hijja2-master\\\\10 ra\\\\10.{}\").format(i)\n",
    "    imgs += os.listdir(folder)\n",
    "    for j in range(len(os.listdir(folder))):\n",
    "        values.append(10)"
   ]
  },
  {
   "cell_type": "code",
   "execution_count": 77,
   "metadata": {},
   "outputs": [],
   "source": [
    "#zay letter\n",
    "for i in range(1,3):\n",
    "    folder = (\"data\\\\Hijja2-master\\\\11 zay\\\\11.{}\").format(i)\n",
    "    imgs += os.listdir(folder)\n",
    "    for j in range(len(os.listdir(folder))):\n",
    "        values.append(11)"
   ]
  },
  {
   "cell_type": "code",
   "execution_count": 78,
   "metadata": {},
   "outputs": [],
   "source": [
    "#sin letter\n",
    "for i in range(1,5):\n",
    "    folder = (\"data\\\\Hijja2-master\\\\12 sin\\\\12.{}\").format(i)\n",
    "    imgs += os.listdir(folder)\n",
    "    for j in range(len(os.listdir(folder))):\n",
    "        values.append(12)"
   ]
  },
  {
   "cell_type": "code",
   "execution_count": 79,
   "metadata": {},
   "outputs": [],
   "source": [
    "#shin letter\n",
    "for i in range(1,5):\n",
    "    folder = (\"data\\\\Hijja2-master\\\\13 shin\\\\13.{}\").format(i)\n",
    "    imgs += os.listdir(folder)\n",
    "    for j in range(len(os.listdir(folder))):\n",
    "        values.append(13)"
   ]
  },
  {
   "cell_type": "code",
   "execution_count": 80,
   "metadata": {},
   "outputs": [],
   "source": [
    "#sad letter\n",
    "for i in range(1,5):\n",
    "    folder = (\"data\\\\Hijja2-master\\\\14 sad\\\\14.{}\").format(i)\n",
    "    imgs += os.listdir(folder)\n",
    "    for j in range(len(os.listdir(folder))):\n",
    "        values.append(14)"
   ]
  },
  {
   "cell_type": "code",
   "execution_count": 81,
   "metadata": {},
   "outputs": [],
   "source": [
    "#dad letter\n",
    "for i in range(1,5):\n",
    "    folder = (\"data\\\\Hijja2-master\\\\15 dad\\\\15.{}\").format(i)\n",
    "    imgs += os.listdir(folder)\n",
    "    for j in range(len(os.listdir(folder))):\n",
    "        values.append(15)"
   ]
  },
  {
   "cell_type": "code",
   "execution_count": 82,
   "metadata": {},
   "outputs": [],
   "source": [
    "#da letter\n",
    "for i in range(1,5):\n",
    "    folder = (\"data\\\\Hijja2-master\\\\16 da\\\\16.{}\").format(i)\n",
    "    imgs += os.listdir(folder)\n",
    "    for j in range(len(os.listdir(folder))):\n",
    "        values.append(16)"
   ]
  },
  {
   "cell_type": "code",
   "execution_count": 83,
   "metadata": {},
   "outputs": [],
   "source": [
    "#za letter\n",
    "for i in range(1,5):\n",
    "    folder=(\"data\\\\Hijja2-master\\\\17 za\\\\17.{}\").format(i)\n",
    "    imgs += os.listdir(folder)\n",
    "    for j in range(len(os.listdir(folder))):\n",
    "        values.append(17)"
   ]
  },
  {
   "cell_type": "code",
   "execution_count": 84,
   "metadata": {},
   "outputs": [],
   "source": [
    "#ayn letter\n",
    "for i in range(1,5):\n",
    "    folder = (\"data\\\\Hijja2-master\\\\18 ayn\\\\18.{}\").format(i)\n",
    "    imgs += os.listdir(folder)\n",
    "    for j in range(len(os.listdir(folder))):\n",
    "        values.append(18)"
   ]
  },
  {
   "cell_type": "code",
   "execution_count": 85,
   "metadata": {},
   "outputs": [],
   "source": [
    "#gayn letter\n",
    "for i in range(1,5):\n",
    "    folder = (\"data\\\\Hijja2-master\\\\19 gayn\\\\19.{}\").format(i)\n",
    "    imgs += os.listdir(folder)\n",
    "    for j in range(len(os.listdir(folder))):\n",
    "        values.append(19)"
   ]
  },
  {
   "cell_type": "code",
   "execution_count": 86,
   "metadata": {},
   "outputs": [],
   "source": [
    "#fa letter\n",
    "for i in range(1,5):\n",
    "    folder = (\"data\\\\Hijja2-master\\\\20 fa\\\\20.{}\").format(i)\n",
    "    imgs += os.listdir(folder)\n",
    "    for j in range(len(os.listdir(folder))):\n",
    "        values.append(20)"
   ]
  },
  {
   "cell_type": "code",
   "execution_count": 87,
   "metadata": {},
   "outputs": [],
   "source": [
    "#qaf letter\n",
    "for i in range(1,5):\n",
    "    folder = (\"data\\\\Hijja2-master\\\\21 qaf\\\\21.{}\").format(i)\n",
    "    imgs += os.listdir(folder)\n",
    "    for j in range(len(os.listdir(folder))):\n",
    "        values.append(21)"
   ]
  },
  {
   "cell_type": "code",
   "execution_count": 88,
   "metadata": {},
   "outputs": [],
   "source": [
    "#kaf letter\n",
    "for i in range(1,5):\n",
    "    folder = (\"data\\\\Hijja2-master\\\\22 kaf\\\\22.{}\").format(i)\n",
    "    imgs += os.listdir(folder)\n",
    "    for j in range(len(os.listdir(folder))):\n",
    "        values.append(22)"
   ]
  },
  {
   "cell_type": "code",
   "execution_count": 89,
   "metadata": {},
   "outputs": [],
   "source": [
    "#lam letter\n",
    "for i in range(1,5):\n",
    "    folder = (\"data\\\\Hijja2-master\\\\23 lam\\\\23.{}\").format(i)\n",
    "    imgs += os.listdir(folder)\n",
    "    for j in range(len(os.listdir(folder))):\n",
    "        values.append(23)"
   ]
  },
  {
   "cell_type": "code",
   "execution_count": 90,
   "metadata": {},
   "outputs": [],
   "source": [
    "#mim letter\n",
    "for i in range(1,5):\n",
    "    folder = (\"data\\\\Hijja2-master\\\\24 mim\\\\24.{}\").format(i)\n",
    "    imgs += os.listdir(folder)\n",
    "    for j in range(len(os.listdir(folder))):\n",
    "        values.append(24)"
   ]
  },
  {
   "cell_type": "code",
   "execution_count": 91,
   "metadata": {},
   "outputs": [],
   "source": [
    "#non letter\n",
    "for i in range(1,5):\n",
    "    folder = (\"data\\\\Hijja2-master\\\\25 non\\\\25.{}\").format(i)\n",
    "    imgs += os.listdir(folder)\n",
    "    for j in range(len(os.listdir(folder))):\n",
    "        values.append(25)"
   ]
  },
  {
   "cell_type": "code",
   "execution_count": 92,
   "metadata": {},
   "outputs": [],
   "source": [
    "#ha letter\n",
    "for i in range(1,5):\n",
    "    folder= (\"data\\\\Hijja2-master\\\\26 ha\\\\26.{}\").format(i)\n",
    "    imgs += os.listdir(folder)\n",
    "    for j in range(len(os.listdir(folder))):\n",
    "        values.append(26)"
   ]
  },
  {
   "cell_type": "code",
   "execution_count": 93,
   "metadata": {},
   "outputs": [],
   "source": [
    "#waw letter\n",
    "for i in range(1,3):\n",
    "    folder = (\"data\\\\Hijja2-master\\\\27 waw\\\\27.{}\").format(i)\n",
    "    imgs += os.listdir(folder)\n",
    "    for j in range(len(os.listdir(folder))):\n",
    "        values.append(27)"
   ]
  },
  {
   "cell_type": "code",
   "execution_count": 94,
   "metadata": {},
   "outputs": [],
   "source": [
    "#ya letter \n",
    "for i in range(1,5):\n",
    "    folder = (\"data\\\\Hijja2-master\\\\28 ya\\\\28.{}\").format(i)\n",
    "    imgs += os.listdir(folder)\n",
    "    for j in range(len(os.listdir(folder))):\n",
    "        values.append(28)"
   ]
  },
  {
   "cell_type": "code",
   "execution_count": 95,
   "metadata": {},
   "outputs": [],
   "source": [
    "#hamza letter\n",
    "for i in range(1,5):\n",
    "    folder = (\"data\\\\Hijja2-master\\\\29 hamza\\\\29.{}\").format(i)\n",
    "    imgs += os.listdir(folder)\n",
    "    for j in range(len(os.listdir(folder))):\n",
    "        values.append(29)"
   ]
  },
  {
   "cell_type": "code",
   "execution_count": 97,
   "metadata": {},
   "outputs": [],
   "source": [
    "import csv\n",
    "with open('letter_stat.csv', 'w', newline='') as file:\n",
    "    writer = csv.writer(file)\n",
    "    writer.writerows(zip(imgs, values))\n",
    "    file.close()"
   ]
  }
 ],
 "metadata": {
  "kernelspec": {
   "display_name": "Python 3 (ipykernel)",
   "language": "python",
   "name": "python3"
  },
  "language_info": {
   "codemirror_mode": {
    "name": "ipython",
    "version": 3
   },
   "file_extension": ".py",
   "mimetype": "text/x-python",
   "name": "python",
   "nbconvert_exporter": "python",
   "pygments_lexer": "ipython3",
   "version": "3.11.7"
  }
 },
 "nbformat": 4,
 "nbformat_minor": 4
}
