{
 "cells": [
  {
   "cell_type": "code",
   "execution_count": 2,
   "metadata": {},
   "outputs": [
    {
     "name": "stdout",
     "output_type": "stream",
     "text": [
      "Unexpected exception formatting exception. Falling back to standard exception\n"
     ]
    },
    {
     "name": "stderr",
     "output_type": "stream",
     "text": [
      "Traceback (most recent call last):\n",
      "  File \"C:\\Users\\HP\\AppData\\Roaming\\Python\\Python39\\site-packages\\IPython\\core\\interactiveshell.py\", line 3550, in run_code\n",
      "  File \"C:\\Users\\HP\\AppData\\Local\\Temp\\ipykernel_27444\\460305767.py\", line 4, in <module>\n",
      "    train_labels = pd.read_csv('data/train.csv')\n",
      "  File \"c:\\Python39\\lib\\site-packages\\pandas\\io\\parsers\\readers.py\", line 1026, in read_csv\n",
      "  File \"c:\\Python39\\lib\\site-packages\\pandas\\io\\parsers\\readers.py\", line 620, in _read\n",
      "  File \"c:\\Python39\\lib\\site-packages\\pandas\\io\\parsers\\readers.py\", line 1620, in __init__\n",
      "  File \"c:\\Python39\\lib\\site-packages\\pandas\\io\\parsers\\readers.py\", line 1880, in _make_engine\n",
      "  File \"c:\\Python39\\lib\\site-packages\\pandas\\io\\common.py\", line 873, in get_handle\n",
      "OSError: [Errno 24] Too many open files: 'data/train.csv'\n",
      "\n",
      "During handling of the above exception, another exception occurred:\n",
      "\n",
      "Traceback (most recent call last):\n",
      "  File \"C:\\Users\\HP\\AppData\\Roaming\\Python\\Python39\\site-packages\\IPython\\core\\interactiveshell.py\", line 2144, in showtraceback\n",
      "  File \"C:\\Users\\HP\\AppData\\Roaming\\Python\\Python39\\site-packages\\IPython\\core\\ultratb.py\", line 1435, in structured_traceback\n",
      "  File \"C:\\Users\\HP\\AppData\\Roaming\\Python\\Python39\\site-packages\\IPython\\core\\ultratb.py\", line 1326, in structured_traceback\n",
      "  File \"C:\\Users\\HP\\AppData\\Roaming\\Python\\Python39\\site-packages\\IPython\\core\\ultratb.py\", line 1173, in structured_traceback\n",
      "  File \"C:\\Users\\HP\\AppData\\Roaming\\Python\\Python39\\site-packages\\IPython\\core\\ultratb.py\", line 1063, in format_exception_as_a_whole\n",
      "  File \"C:\\Users\\HP\\AppData\\Roaming\\Python\\Python39\\site-packages\\IPython\\core\\ultratb.py\", line 1114, in get_records\n",
      "  File \"C:\\Users\\HP\\AppData\\Roaming\\Python\\Python39\\site-packages\\pygments\\styles\\__init__.py\", line 45, in get_style_by_name\n",
      "  File \"<frozen importlib._bootstrap>\", line 1007, in _find_and_load\n",
      "  File \"<frozen importlib._bootstrap>\", line 986, in _find_and_load_unlocked\n",
      "  File \"<frozen importlib._bootstrap>\", line 680, in _load_unlocked\n",
      "  File \"<frozen importlib._bootstrap_external>\", line 851, in exec_module\n",
      "  File \"<frozen importlib._bootstrap_external>\", line 987, in get_code\n",
      "  File \"<frozen importlib._bootstrap_external>\", line 1044, in get_data\n",
      "OSError: [Errno 24] Too many open files: 'C:\\\\Users\\\\HP\\\\AppData\\\\Roaming\\\\Python\\\\Python39\\\\site-packages\\\\pygments\\\\styles\\\\default.py'\n"
     ]
    }
   ],
   "source": [
    "import pandas as pd\n",
    "from PIL import Image\n",
    "\n",
    "train_labels = pd.read_csv('data/train.csv')\n",
    "\n",
    "train_images= []\n",
    "\n",
    "for img in train_labels['image']:\n",
    "    image = Image.open(f'data/train/{img}')\n",
    "    train_images.append(image)"
   ]
  },
  {
   "cell_type": "code",
   "execution_count": null,
   "metadata": {},
   "outputs": [],
   "source": [
    "test_labels = pd.read_csv('data/test.csv')\n",
    "test_images= []\n",
    "\n",
    "for img in test_labels['image']:\n",
    "    image = Image.open(f'data/test/{img}')\n",
    "    test_images.append(image)"
   ]
  },
  {
   "cell_type": "code",
   "execution_count": null,
   "metadata": {},
   "outputs": [],
   "source": [
    "val_labels = pd.read_csv('data/validation.csv')\n",
    "val_images= []\n",
    "\n",
    "for img in val_labels['image']:\n",
    "    image = Image.open(f'data/validation/{img}')\n",
    "    val_images.append(image)"
   ]
  }
 ],
 "metadata": {
  "kernelspec": {
   "display_name": "Python 3",
   "language": "python",
   "name": "python3"
  },
  "language_info": {
   "codemirror_mode": {
    "name": "ipython",
    "version": 3
   },
   "file_extension": ".py",
   "mimetype": "text/x-python",
   "name": "python",
   "nbconvert_exporter": "python",
   "pygments_lexer": "ipython3",
   "version": "3.9.5"
  }
 },
 "nbformat": 4,
 "nbformat_minor": 2
}
