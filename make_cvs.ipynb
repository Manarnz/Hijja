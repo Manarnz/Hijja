{
 "cells": [
  {
   "cell_type": "code",
   "execution_count": 65,
   "metadata": {},
   "outputs": [],
   "source": [
    "import os"
   ]
  },
  {
   "cell_type": "code",
   "execution_count": 66,
   "metadata": {},
   "outputs": [],
   "source": [
    "imgs = [\"image\"]\n",
    "values=[\"letter\"]\n",
    "for i in range(1,7):\n",
    "    folder = (\"data\\\\1 alif\\\\1.{}\").format(i)\n",
    "    imgs += os.listdir(folder)\n",
    "    for j in range(len(os.listdir(folder))):\n",
    "        values.append(\"alif\")"
   ]
  },
  {
   "cell_type": "code",
   "execution_count": 67,
   "metadata": {},
   "outputs": [
    {
     "name": "stdout",
     "output_type": "stream",
     "text": [
      "2742\n"
     ]
    }
   ],
   "source": [
    "print(len(imgs))"
   ]
  },
  {
   "cell_type": "code",
   "execution_count": 68,
   "metadata": {},
   "outputs": [],
   "source": [
    "#ba letters\n",
    "for i in range(1,5):\n",
    "    folder = (\"data\\\\2 ba\\\\2.{}\").format(i)\n",
    "    imgs += os.listdir(folder)\n",
    "    for j in range(len(os.listdir(folder))):\n",
    "        values.append(\"ba\")"
   ]
  },
  {
   "cell_type": "code",
   "execution_count": 69,
   "metadata": {},
   "outputs": [],
   "source": [
    "#ta letters\n",
    "for i in range(1,5):\n",
    "    folder=(\"data\\\\3 ta\\\\3.{}\").format(i)\n",
    "    imgs += os.listdir(folder)\n",
    "    for j in range(len(os.listdir(folder))):\n",
    "        values.append(\"ta\")"
   ]
  },
  {
   "cell_type": "code",
   "execution_count": 70,
   "metadata": {},
   "outputs": [],
   "source": [
    "#tha letter\n",
    "for i in range(1,5):\n",
    "    folder = (\"data\\\\4 tha\\\\4.{}\").format(i)\n",
    "    imgs += os.listdir(folder)\n",
    "    for j in range(len(os.listdir(folder))):\n",
    "        values.append(\"tha\")"
   ]
  },
  {
   "cell_type": "code",
   "execution_count": 71,
   "metadata": {},
   "outputs": [],
   "source": [
    "#gim letter \n",
    "for i in range(1,5):\n",
    "    folder = (\"data\\\\5 gim\\\\5.{}\").format(i)\n",
    "    imgs += os.listdir(folder)\n",
    "    for j in range(len(os.listdir(folder))):\n",
    "        values.append(\"gim\")"
   ]
  },
  {
   "cell_type": "code",
   "execution_count": 72,
   "metadata": {},
   "outputs": [],
   "source": [
    "#haa letter \n",
    "for i in range(1,5):\n",
    "    folder = (\"data\\\\6 ha\\\\6.{}\").format(i)\n",
    "    imgs += os.listdir(folder)\n",
    "    for j in range(len(os.listdir(folder))):\n",
    "        values.append(\"haa\")"
   ]
  },
  {
   "cell_type": "code",
   "execution_count": 73,
   "metadata": {},
   "outputs": [],
   "source": [
    "#kha letter\n",
    "for i in range(1,5):\n",
    "    folder = (\"data\\\\7 kha\\\\7.{}\").format(i)\n",
    "    imgs += os.listdir(folder)\n",
    "    for j in range(len(os.listdir(folder))):\n",
    "        values.append(\"kha\")"
   ]
  },
  {
   "cell_type": "code",
   "execution_count": 74,
   "metadata": {},
   "outputs": [],
   "source": [
    "#dal letter\n",
    "for i in range(1,3):\n",
    "    folder = (\"data\\\\8 dal\\\\8.{}\").format(i)\n",
    "    imgs += os.listdir(folder)\n",
    "    for j in range(len(os.listdir(folder))):\n",
    "        values.append(\"dal\")"
   ]
  },
  {
   "cell_type": "code",
   "execution_count": 75,
   "metadata": {},
   "outputs": [],
   "source": [
    "thal_list=[]\n",
    "for i in range(1,3):\n",
    "    folder = (\"data\\\\9 thal\\\\9.{}\").format(i)\n",
    "    imgs += os.listdir(folder)\n",
    "    for j in range(len(os.listdir(folder))):\n",
    "        values.append(\"thal\")"
   ]
  },
  {
   "cell_type": "code",
   "execution_count": 76,
   "metadata": {},
   "outputs": [],
   "source": [
    "#ra letter\n",
    "for i in range(1,3):\n",
    "    folder = (\"data\\\\10 ra\\\\10.{}\").format(i)\n",
    "    imgs += os.listdir(folder)\n",
    "    for j in range(len(os.listdir(folder))):\n",
    "        values.append(\"ra\")"
   ]
  },
  {
   "cell_type": "code",
   "execution_count": 77,
   "metadata": {},
   "outputs": [],
   "source": [
    "#zay letter\n",
    "for i in range(1,3):\n",
    "    folder = (\"data\\\\11 zay\\\\11.{}\").format(i)\n",
    "    imgs += os.listdir(folder)\n",
    "    for j in range(len(os.listdir(folder))):\n",
    "        values.append(\"zay\")"
   ]
  },
  {
   "cell_type": "code",
   "execution_count": 78,
   "metadata": {},
   "outputs": [],
   "source": [
    "#sin letter\n",
    "for i in range(1,5):\n",
    "    folder = (\"data\\\\12 sin\\\\12.{}\").format(i)\n",
    "    imgs += os.listdir(folder)\n",
    "    for j in range(len(os.listdir(folder))):\n",
    "        values.append(\"sin\")"
   ]
  },
  {
   "cell_type": "code",
   "execution_count": 79,
   "metadata": {},
   "outputs": [],
   "source": [
    "#shin letter\n",
    "for i in range(1,5):\n",
    "    folder = (\"data\\\\13 shin\\\\13.{}\").format(i)\n",
    "    imgs += os.listdir(folder)\n",
    "    for j in range(len(os.listdir(folder))):\n",
    "        values.append(\"shin\")"
   ]
  },
  {
   "cell_type": "code",
   "execution_count": 80,
   "metadata": {},
   "outputs": [],
   "source": [
    "#sad letter\n",
    "for i in range(1,5):\n",
    "    folder = (\"data\\\\14 sad\\\\14.{}\").format(i)\n",
    "    imgs += os.listdir(folder)\n",
    "    for j in range(len(os.listdir(folder))):\n",
    "        values.append(\"sad\")"
   ]
  },
  {
   "cell_type": "code",
   "execution_count": 81,
   "metadata": {},
   "outputs": [],
   "source": [
    "#dad letter\n",
    "for i in range(1,5):\n",
    "    folder = (\"data\\\\15 dad\\\\15.{}\").format(i)\n",
    "    imgs += os.listdir(folder)\n",
    "    for j in range(len(os.listdir(folder))):\n",
    "        values.append(\"dad\")"
   ]
  },
  {
   "cell_type": "code",
   "execution_count": 82,
   "metadata": {},
   "outputs": [],
   "source": [
    "#da letter\n",
    "for i in range(1,5):\n",
    "    folder = (\"data\\\\16 da\\\\16.{}\").format(i)\n",
    "    imgs += os.listdir(folder)\n",
    "    for j in range(len(os.listdir(folder))):\n",
    "        values.append(\"da\")"
   ]
  },
  {
   "cell_type": "code",
   "execution_count": 83,
   "metadata": {},
   "outputs": [],
   "source": [
    "#za letter\n",
    "for i in range(1,5):\n",
    "    folder=(\"data\\\\17 za\\\\17.{}\").format(i)"
   ]
  },
  {
   "cell_type": "code",
   "execution_count": 84,
   "metadata": {},
   "outputs": [],
   "source": [
    "#ayn letter\n",
    "for i in range(1,5):\n",
    "    folder = (\"data\\\\18 ayn\\\\18.{}\").format(i)\n",
    "    imgs += os.listdir(folder)\n",
    "    for j in range(len(os.listdir(folder))):\n",
    "        values.append(\"ayn\")"
   ]
  },
  {
   "cell_type": "code",
   "execution_count": 85,
   "metadata": {},
   "outputs": [],
   "source": [
    "#gayn letter\n",
    "for i in range(1,5):\n",
    "    folder = (\"data\\\\19 gayn\\\\19.{}\").format(i)\n",
    "    imgs += os.listdir(folder)\n",
    "    for j in range(len(os.listdir(folder))):\n",
    "        values.append(\"gayn\")"
   ]
  },
  {
   "cell_type": "code",
   "execution_count": 86,
   "metadata": {},
   "outputs": [],
   "source": [
    "#fa letter\n",
    "for i in range(1,5):\n",
    "    folder = (\"data\\\\20 fa\\\\20.{}\").format(i)\n",
    "    imgs += os.listdir(folder)\n",
    "    for j in range(len(os.listdir(folder))):\n",
    "        values.append(\"fa\")"
   ]
  },
  {
   "cell_type": "code",
   "execution_count": 87,
   "metadata": {},
   "outputs": [],
   "source": [
    "#qaf letter\n",
    "for i in range(1,5):\n",
    "    folder = (\"data\\\\21 qaf\\\\21.{}\").format(i)\n",
    "    imgs += os.listdir(folder)\n",
    "    for j in range(len(os.listdir(folder))):\n",
    "        values.append(\"qaf\")"
   ]
  },
  {
   "cell_type": "code",
   "execution_count": 88,
   "metadata": {},
   "outputs": [],
   "source": [
    "#kaf letter\n",
    "for i in range(1,5):\n",
    "    folder = (\"data\\\\22 kaf\\\\22.{}\").format(i)\n",
    "    imgs += os.listdir(folder)\n",
    "    for j in range(len(os.listdir(folder))):\n",
    "        values.append(\"kaf\")"
   ]
  },
  {
   "cell_type": "code",
   "execution_count": 89,
   "metadata": {},
   "outputs": [],
   "source": [
    "#lam letter\n",
    "for i in range(1,5):\n",
    "    folder = (\"data\\\\23 lam\\\\23.{}\").format(i)\n",
    "    imgs += os.listdir(folder)\n",
    "    for j in range(len(os.listdir(folder))):\n",
    "        values.append(\"lam\")"
   ]
  },
  {
   "cell_type": "code",
   "execution_count": 90,
   "metadata": {},
   "outputs": [],
   "source": [
    "#mim letter\n",
    "for i in range(1,5):\n",
    "    folder = (\"data\\\\24 mim\\\\24.{}\").format(i)\n",
    "    imgs += os.listdir(folder)\n",
    "    for j in range(len(os.listdir(folder))):\n",
    "        values.append(\"mim\")"
   ]
  },
  {
   "cell_type": "code",
   "execution_count": 91,
   "metadata": {},
   "outputs": [],
   "source": [
    "#non letter\n",
    "for i in range(1,5):\n",
    "    folder = (\"data\\\\25 non\\\\25.{}\").format(i)\n",
    "    imgs += os.listdir(folder)\n",
    "    for j in range(len(os.listdir(folder))):\n",
    "        values.append(\"non\")"
   ]
  },
  {
   "cell_type": "code",
   "execution_count": 92,
   "metadata": {},
   "outputs": [],
   "source": [
    "#ha letter\n",
    "for i in range(1,5):\n",
    "    folder= (\"data\\\\26 ha\\\\26.{}\").format(i)\n",
    "    imgs += os.listdir(folder)\n",
    "    for j in range(len(os.listdir(folder))):\n",
    "        values.append(\"ha\")"
   ]
  },
  {
   "cell_type": "code",
   "execution_count": 93,
   "metadata": {},
   "outputs": [],
   "source": [
    "#waw letter\n",
    "for i in range(1,3):\n",
    "    folder = (\"data\\\\27 waw\\\\27.{}\").format(i)\n",
    "    imgs += os.listdir(folder)\n",
    "    for j in range(len(os.listdir(folder))):\n",
    "        values.append(\"waw\")"
   ]
  },
  {
   "cell_type": "code",
   "execution_count": 94,
   "metadata": {},
   "outputs": [],
   "source": [
    "#ya letter \n",
    "for i in range(1,5):\n",
    "    folder = (\"data\\\\28 ya\\\\28.{}\").format(i)\n",
    "    imgs += os.listdir(folder)\n",
    "    for j in range(len(os.listdir(folder))):\n",
    "        values.append(\"ya\")"
   ]
  },
  {
   "cell_type": "code",
   "execution_count": 95,
   "metadata": {},
   "outputs": [],
   "source": [
    "#hamza letter\n",
    "for i in range(1,5):\n",
    "    folder = (\"data\\\\29 hamza\\\\29.{}\").format(i)\n",
    "    imgs += os.listdir(folder)\n",
    "    for j in range(len(os.listdir(folder))):\n",
    "        values.append(\"hamza\")"
   ]
  },
  {
   "cell_type": "code",
   "execution_count": 97,
   "metadata": {},
   "outputs": [],
   "source": [
    "import csv\n",
    "with open('letter_stat.csv', 'w', newline='') as file:\n",
    "    writer = csv.writer(file)\n",
    "    writer.writerows(zip(imgs, values))\n",
    "    file.close()"
   ]
  }
 ],
 "metadata": {
  "kernelspec": {
   "display_name": "Python 3",
   "language": "python",
   "name": "python3"
  },
  "language_info": {
   "codemirror_mode": {
    "name": "ipython",
    "version": 3
   },
   "file_extension": ".py",
   "mimetype": "text/x-python",
   "name": "python",
   "nbconvert_exporter": "python",
   "pygments_lexer": "ipython3",
   "version": "3.9.5"
  }
 },
 "nbformat": 4,
 "nbformat_minor": 2
}
